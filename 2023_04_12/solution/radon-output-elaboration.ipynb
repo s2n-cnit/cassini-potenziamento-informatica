{
 "cells": [
  {
   "cell_type": "code",
   "execution_count": 22,
   "metadata": {},
   "outputs": [],
   "source": [
    "import pandas as pd\n",
    "import numpy as np"
   ]
  },
  {
   "cell_type": "code",
   "execution_count": 32,
   "metadata": {},
   "outputs": [],
   "source": [
    "df = pd.read_csv('radon-output-filtered.csv')"
   ]
  },
  {
   "cell_type": "code",
   "execution_count": 33,
   "metadata": {},
   "outputs": [],
   "source": [
    "df['Points'] = (df.Effort / df.Effort.max() * 10).apply(np.ceil) + 2"
   ]
  },
  {
   "cell_type": "code",
   "execution_count": 36,
   "metadata": {},
   "outputs": [
    {
     "name": "stdout",
     "output_type": "stream",
     "text": [
      "    Program      Effort  Points\n",
      "0         1   24.000000     3.0\n",
      "1         2  186.809307     9.0\n",
      "2         3    2.377444     3.0\n",
      "3         4    2.377444     3.0\n",
      "4         5    2.377444     3.0\n",
      "5         6   18.575425     3.0\n",
      "6         7    2.377444     3.0\n",
      "7         8    2.377444     3.0\n",
      "8         9    2.377444     3.0\n",
      "9        10    0.000000     2.0\n",
      "10       11   15.509775     3.0\n",
      "11       12   53.901215     4.0\n",
      "12       13   72.663180     5.0\n",
      "13       14  293.016795    12.0\n",
      "14       15   48.000000     4.0\n",
      "15       16    0.000000     2.0\n",
      "16       17    0.000000     2.0\n",
      "17       18  193.587975     9.0\n",
      "18       19    0.000000     2.0\n",
      "19       20    2.377444     3.0\n",
      "20       21    2.377444     3.0\n",
      "21       22    0.000000     2.0\n",
      "22       23    0.000000     2.0\n",
      "23       24    0.000000     2.0\n",
      "24       25    6.965784     3.0\n"
     ]
    }
   ],
   "source": [
    "print(df)"
   ]
  },
  {
   "cell_type": "code",
   "execution_count": 37,
   "metadata": {},
   "outputs": [
    {
     "data": {
      "text/plain": [
       "93.0"
      ]
     },
     "execution_count": 37,
     "metadata": {},
     "output_type": "execute_result"
    }
   ],
   "source": [
    "df.Points.sum()"
   ]
  },
  {
   "cell_type": "code",
   "execution_count": null,
   "metadata": {},
   "outputs": [],
   "source": []
  }
 ],
 "metadata": {
  "kernelspec": {
   "display_name": "Python 3",
   "language": "python",
   "name": "python3"
  },
  "language_info": {
   "codemirror_mode": {
    "name": "ipython",
    "version": 3
   },
   "file_extension": ".py",
   "mimetype": "text/x-python",
   "name": "python",
   "nbconvert_exporter": "python",
   "pygments_lexer": "ipython3",
   "version": "3.11.1"
  },
  "orig_nbformat": 4
 },
 "nbformat": 4,
 "nbformat_minor": 2
}
